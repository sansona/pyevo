{
 "cells": [
  {
   "cell_type": "markdown",
   "id": "blessed-quarterly",
   "metadata": {},
   "source": [
    "# Different reproductive strategies\n",
    "\n",
    "WIP"
   ]
  },
  {
   "cell_type": "code",
   "execution_count": null,
   "id": "aquatic-puppy",
   "metadata": {},
   "outputs": [],
   "source": [
    "import sys\n",
    "sys.path.append('..')\n",
    "from environment import *\n",
    "from blobs import BaseBlob, MutatedBaseBlob\n",
    "\n",
    "%load_ext autoreload\n",
    "%autoreload 2"
   ]
  },
  {
   "cell_type": "code",
   "execution_count": null,
   "id": "aging-combat",
   "metadata": {},
   "outputs": [],
   "source": [
    "bunnies = [BaseBlob(0.2, 0.95, 0.0) for x in range(25)]\n",
    "elephants = [BaseBlob(0.95, 0.1, 0.0) for x in range(25)]\n",
    "bacteria = [BaseBlob(0.05, 0.999, 0.0) for x in range(25)]\n",
    "humans = [BaseBlob(0.9, 0.4, 0.0) for x in range(25)]\n",
    "\n",
    "for b in bunnies:\n",
    "    b.name = 'Bunnies'\n",
    "    b.color = 'pink'\n",
    "for e in elephants:\n",
    "    e.name = 'Elephants'\n",
    "    e.color= 'brown'\n",
    "for a in bacteria:\n",
    "    a.name = 'Bacteria'\n",
    "    a.color = 'gray'\n",
    "for h in humans:\n",
    "    h.name = 'Humans'\n",
    "    h.color = 'beige'"
   ]
  },
  {
   "cell_type": "code",
   "execution_count": null,
   "id": "interracial-hunger",
   "metadata": {},
   "outputs": [],
   "source": [
    "e = BaseEnvironment()\n",
    "e.spawn_population(bunnies + elephants + bacteria + humans)\n",
    "\n",
    "for i in range(30):\n",
    "    e.interact()\n",
    "    \n",
    "e.plot_growth()"
   ]
  }
 ],
 "metadata": {
  "kernelspec": {
   "display_name": "kernel",
   "language": "python",
   "name": "kernel"
  },
  "language_info": {
   "codemirror_mode": {
    "name": "ipython",
    "version": 3
   },
   "file_extension": ".py",
   "mimetype": "text/x-python",
   "name": "python",
   "nbconvert_exporter": "python",
   "pygments_lexer": "ipython3",
   "version": "3.8.0"
  }
 },
 "nbformat": 4,
 "nbformat_minor": 5
}
