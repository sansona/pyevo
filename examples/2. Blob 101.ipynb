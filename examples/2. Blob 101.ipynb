{
 "cells": [
  {
   "cell_type": "markdown",
   "id": "single-mistress",
   "metadata": {},
   "source": [
    "# 2. Blob 101\n",
    "\n",
    "Welcome back! This notebook will go over blobs, their various attributes, and how to make your own blob classes. The intention of `pyevo` is that the users will define their own blob classes to fit the conditions they are trying to study. As such, throughout the notebooks we will be defining many new blob types on the fly"
   ]
  },
  {
   "cell_type": "code",
   "execution_count": 1,
   "id": "stylish-benchmark",
   "metadata": {},
   "outputs": [],
   "source": [
    "import sys\n",
    "sys.path.append('..')\n",
    "from environment import *\n",
    "from blobs import *\n",
    "\n",
    "%load_ext autoreload\n",
    "%autoreload 2"
   ]
  },
  {
   "cell_type": "markdown",
   "id": "defensive-currency",
   "metadata": {},
   "source": [
    "To start with, the ancestor of all blobs is the `BaseBlob` class. Let's call an instance of this class and see what attributes and properties it has"
   ]
  },
  {
   "cell_type": "code",
   "execution_count": 2,
   "id": "level-elimination",
   "metadata": {},
   "outputs": [
    {
     "name": "stdout",
     "output_type": "stream",
     "text": [
      "['color', 'move', 'mutation_class', 'mutation_prob', 'name', 'repr_class', 'reproduce', 'reproduction_prob', 'set_probs', 'size', 'step', 'survival_prob', 'x', 'y']\n"
     ]
    }
   ],
   "source": [
    "b = BaseBlob()\n",
    "print([d for d in dir(b) if not d[0].startswith('_')])"
   ]
  },
  {
   "cell_type": "markdown",
   "id": "published-carolina",
   "metadata": {},
   "source": [
    "We have quite the few attributes and methods available to us. Let's access the docstrings to learn more"
   ]
  },
  {
   "cell_type": "code",
   "execution_count": 3,
   "id": "engaged-heath",
   "metadata": {},
   "outputs": [
    {
     "data": {
      "text/plain": [
       "\u001b[0;31mInit signature:\u001b[0m \u001b[0mBaseBlob\u001b[0m\u001b[0;34m(\u001b[0m\u001b[0;34m)\u001b[0m \u001b[0;34m->\u001b[0m \u001b[0;32mNone\u001b[0m\u001b[0;34m\u001b[0m\u001b[0;34m\u001b[0m\u001b[0m\n",
       "\u001b[0;31mDocstring:\u001b[0m     \n",
       "Base class for blob. Each blob class should functionally contain at a\n",
       "minimum a reproduce method and a move method\n",
       "\n",
       "Attributes:\n",
       "    name (str): name associated with blob type\n",
       "    survival_prob (float): probability of survival at each epoch\n",
       "    reproduction_prob (float): probability of reproduction at each epoch\n",
       "    mutation_prob (float): probability of mutation at each epoch\n",
       "\n",
       "    mutation_class (Callable): class to mutate to\n",
       "    repr_class (Callable) class to produce when reproducing w/o mutation\n",
       "    color (str): color of Blob for display\n",
       "    x (float): x-coordinate of Blob\n",
       "    y (float): y-coordinate of Blob\n",
       "    size (float): effective size of blob\n",
       "    step (float): increment at which blob moves across environment\n",
       "\u001b[0;31mInit docstring:\u001b[0m Inits BaseBlob\n",
       "\u001b[0;31mFile:\u001b[0m           ~/virtualenvironment/pyevo/blobs.py\n",
       "\u001b[0;31mType:\u001b[0m           type\n",
       "\u001b[0;31mSubclasses:\u001b[0m     PerfectTestBlob, MutatedBaseBlob, SturdyBlob, BlobWithFoodSense\n"
      ]
     },
     "metadata": {},
     "output_type": "display_data"
    }
   ],
   "source": [
    "?BaseBlob"
   ]
  },
  {
   "cell_type": "markdown",
   "id": "vanilla-jaguar",
   "metadata": {},
   "source": [
    "This tells us quite a lot. For starters, it looks like the relevant attributes are listed under the `Attributes` section. This will be different for the more complex blobs and will likely grow or change as `pyevo` evolves (get it?) but accessing the docstrings will always provide the most up to date understanding\n",
    "\n",
    "Let's focus on a couple of the important ones. We've already gone through the three attributes that are defined for all blobs, namely `survival_prob`, `reproduction_prob`, and `mutation_prob`. \n",
    "\n",
    "Some general ones that will likely be used across all blobs and environments are:\n",
    "1. `name`. This is the name of the blob class. As we saw in notebook 1 however, this can also be used to keep track of a specific blob or blobs.\n",
    "2. `color`. This is the color of the blob as displayed in the plots available through the `Environment` classes\n",
    "\n",
    "Some other important ones for reproduction are:\n",
    "1. `mutation_class`. This is the class object that the blob will mutate into. For now, `pyevo` supports single mutation linkages but this will change in the future.\n",
    "2. `repr_class`. This tells `pyevo` what the class will reproduce to if given the chance to reproduce. For most cases, this will just be the same as the class itself.\n",
    "\n",
    "This doesn't cover all that are available! As mentioned before, as `pyevo` continues to evolve, these attributes will likely continue to change. To stay up to date, read the docstrings via the `?<BlobClass>` call!"
   ]
  },
  {
   "cell_type": "markdown",
   "id": "framed-wages",
   "metadata": {},
   "source": [
    "## 2.1 Making our own classes\n",
    "\n",
    "While `pyevo` has many base classes defined, for many purposes it'll be valuable to create custom classes. In fact, as mentioned earlier on, this is the intention. Let's go through a case of this together. Say we want to setup an extended simulation of the one we did in Lesson 1 in order to study how varying `survival_prob` and `reproduction_prob` affects overall population survival.\n",
    "\n",
    "Here's how we create a new class. Let's first define a class called `Bunny` that inherits from `BaseBlob`"
   ]
  },
  {
   "cell_type": "code",
   "execution_count": 4,
   "id": "adopted-insider",
   "metadata": {},
   "outputs": [],
   "source": [
    "class Bunny(BaseBlob):\n",
    "    \"\"\"Nibble nibble\"\"\"\n",
    "    def __init__(self):\n",
    "        super().__init__()"
   ]
  },
  {
   "cell_type": "markdown",
   "id": "liquid-peace",
   "metadata": {},
   "source": [
    "Now that our `Bunny` class has inherited from `BaseBlob`, let's set some of its attributes"
   ]
  },
  {
   "cell_type": "code",
   "execution_count": 5,
   "id": "finished-particular",
   "metadata": {},
   "outputs": [],
   "source": [
    "class Bunny(BaseBlob):\n",
    "    \"\"\"Nibble nibble\"\"\"\n",
    "    def __init__(self):\n",
    "        super().__init__()\n",
    "        self.name = 'Bunny'\n",
    "        self.color = 'pink'\n",
    "        self.repr_class = Bunny #when bunnies reproduce, they form more bunnies"
   ]
  },
  {
   "cell_type": "markdown",
   "id": "initial-healthcare",
   "metadata": {},
   "source": [
    "The typical attributes of bunnies are that they have relatively short lifespans and reproduce <b>a lot</b>. Let's reflect this in the (s, m, r) values"
   ]
  },
  {
   "cell_type": "code",
   "execution_count": 6,
   "id": "educational-merchant",
   "metadata": {},
   "outputs": [
    {
     "name": "stdout",
     "output_type": "stream",
     "text": [
      "Bunny(s=0.3,r=0.9,m=0.0)\n"
     ]
    }
   ],
   "source": [
    "class Bunny(BaseBlob):\n",
    "    \"\"\"Nibble nibble\"\"\"\n",
    "    def __init__(self):\n",
    "        super().__init__()\n",
    "        self.name = 'Bunny'\n",
    "        self.color = 'pink'\n",
    "        self.repr_class = Bunny #when bunnies reproduce, they form more bunnies\n",
    "        \n",
    "        self.survival_prob = 0.3\n",
    "        self.reproduction_prob = 0.9\n",
    "        self.mutation_prob = 0.0\n",
    "        \n",
    "bun = Bunny()\n",
    "print(bun)"
   ]
  },
  {
   "cell_type": "markdown",
   "id": "cutting-dominican",
   "metadata": {},
   "source": [
    "That's it! Now we have a real live (abstraction of) a Bunny!\n",
    "\n",
    "This is a very simplified example, but let's make a couple more classes. For this simulation, these classes will all be along the same lines of simplicity but later on we'll introduce more intricately designed classes"
   ]
  },
  {
   "cell_type": "code",
   "execution_count": 7,
   "id": "arabic-athletics",
   "metadata": {},
   "outputs": [],
   "source": [
    "class Elephant(BaseBlob):\n",
    "    \"\"\"*trumpet sound*\"\"\"\n",
    "    def __init__(self):\n",
    "        super().__init__()\n",
    "        self.name = 'Elephant'\n",
    "        self.color = 'brown'\n",
    "        self.repr_class = Elephant\n",
    "        self.survival_prob = 0.95\n",
    "        self.reproduction_prob = 0.05\n",
    "        self.mutation_prob = 0.0 #Fun fact - elephants in real life are pretty close to cancer-free!\n",
    "        \n",
    "class Bacteria(BaseBlob):\n",
    "    \"\"\"*silence*\"\"\"\n",
    "    def __init__(self):\n",
    "        super().__init__()\n",
    "        self.name = 'Bacteria'\n",
    "        self.color = 'green' \n",
    "        self.repr_class = Bacteria\n",
    "        self.survival_prob = 0.1\n",
    "        self.reproduction_prob = 0.999\n",
    "        self.mutation_prob = 0.0\n",
    "        \n",
    "class Human(BaseBlob):\n",
    "    \"\"\"'I am the most important being in the universe'\"\"\"\n",
    "    def __init__(self):\n",
    "        super().__init__()\n",
    "        self.name = 'Human'\n",
    "        self.color = 'blue' #Not a political statement, just choosing a random color\n",
    "        self.repr_class = Human\n",
    "        self.survival_prob = 0.7\n",
    "        self.reproduction_prob = 0.4\n",
    "        self.mutation_prob = 0.0"
   ]
  },
  {
   "cell_type": "markdown",
   "id": "popular-fence",
   "metadata": {},
   "source": [
    "Now that we have our classes, let's instantiate them and send them off to interact!"
   ]
  },
  {
   "cell_type": "code",
   "execution_count": 8,
   "id": "phantom-efficiency",
   "metadata": {},
   "outputs": [
    {
     "name": "stdout",
     "output_type": "stream",
     "text": [
      "Population appended - Bunny|Human|Bacteria|Elephant added\n",
      "Number blobs in new generation: 100\n",
      "Number generations present: 1\n"
     ]
    },
    {
     "data": {
      "image/png": "[encoded data removed]",
      "text/plain": [
       "<Figure size 864x864 with 1 Axes>"
      ]
     },
     "metadata": {},
     "output_type": "display_data"
    }
   ],
   "source": [
    "bunnies = [Bunny() for x in range(25)]\n",
    "elephants = [Elephant() for x in range(25)]\n",
    "bacteria = [Bacteria() for x in range(25)]\n",
    "humans = [Human() for x in range(25)]\n",
    "\n",
    "e = BaseEnvironment()\n",
    "e.spawn_population(bunnies + elephants + bacteria + humans)\n",
    "\n",
    "for i in range(30):\n",
    "    e.interact()\n",
    "    \n",
    "e.plot_growth()"
   ]
  },
  {
   "cell_type": "markdown",
   "id": "informed-lodging",
   "metadata": {},
   "source": [
    "Somewhat depressingly, in most simulations all of the blobs don't face such good prospects. It does seem that of all the reproductive strategies, that of the `Elephant` seems relatively successful, at least in this specific simulation instance\n",
    "\n",
    "This wraps up our introduction to blobs! One thing not mentioned in this notebook are the methods associated with different blobs. For the ambitious learner, feel free to dive into the docstrings and see what you can find!"
   ]
  }
 ],
 "metadata": {
  "kernelspec": {
   "display_name": "kernel",
   "language": "python",
   "name": "kernel"
  },
  "language_info": {
   "codemirror_mode": {
    "name": "ipython",
    "version": 3
   },
   "file_extension": ".py",
   "mimetype": "text/x-python",
   "name": "python",
   "nbconvert_exporter": "python",
   "pygments_lexer": "ipython3",
   "version": "3.8.0"
  }
 },
 "nbformat": 4,
 "nbformat_minor": 5
}
