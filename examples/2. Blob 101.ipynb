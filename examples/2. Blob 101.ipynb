{
 "cells": [
  {
   "cell_type": "markdown",
   "id": "paperback-repair",
   "metadata": {},
   "source": [
    "# Blob 101\n",
    "\n",
    "Welcome back! This notebook will go over blobs, their various attributes, and how to make your own blob classes"
   ]
  },
  {
   "cell_type": "code",
   "execution_count": 3,
   "id": "figured-dominican",
   "metadata": {},
   "outputs": [
    {
     "name": "stdout",
     "output_type": "stream",
     "text": [
      "The autoreload extension is already loaded. To reload it, use:\n",
      "  %reload_ext autoreload\n"
     ]
    }
   ],
   "source": [
    "import sys\n",
    "sys.path.append('..')\n",
    "from environment import *\n",
    "from blobs import *\n",
    "\n",
    "%load_ext autoreload\n",
    "%autoreload 2"
   ]
  },
  {
   "cell_type": "markdown",
   "id": "absent-mileage",
   "metadata": {},
   "source": [
    "To start with, all blobs inherit from the `BaseBlob` class. Let's call an instance of this class and see what attributes and properties it has"
   ]
  },
  {
   "cell_type": "code",
   "execution_count": 7,
   "id": "stock-fiber",
   "metadata": {},
   "outputs": [
    {
     "name": "stdout",
     "output_type": "stream",
     "text": [
      "['color', 'move', 'mutated_offspring_traits', 'mutation_class', 'mutation_prob', 'name', 'repr_class', 'reproduce', 'reproduction_prob', 'size', 'step', 'survival_prob', 'x', 'y']\n"
     ]
    }
   ],
   "source": [
    "b = BaseBlob(1.0, 1.0, 1.0)\n",
    "print([d for d in dir(b) if not d[0].startswith('_')])"
   ]
  },
  {
   "cell_type": "markdown",
   "id": "rubber-species",
   "metadata": {},
   "source": [
    "We have quite the few attributes and methods available to us. Let's access the docstrings to learn more"
   ]
  },
  {
   "cell_type": "code",
   "execution_count": 10,
   "id": "boolean-concert",
   "metadata": {},
   "outputs": [
    {
     "data": {
      "text/plain": [
       "\u001b[0;31mInit signature:\u001b[0m \u001b[0mBaseBlob\u001b[0m\u001b[0;34m(\u001b[0m\u001b[0msurvival_prob\u001b[0m\u001b[0;34m,\u001b[0m \u001b[0mreproduction_prob\u001b[0m\u001b[0;34m,\u001b[0m \u001b[0mmutation_prob\u001b[0m\u001b[0;34m)\u001b[0m \u001b[0;34m->\u001b[0m \u001b[0;32mNone\u001b[0m\u001b[0;34m\u001b[0m\u001b[0;34m\u001b[0m\u001b[0m\n",
       "\u001b[0;31mDocstring:\u001b[0m     \n",
       "Base class for blob. Each blob class should functionally contain at a\n",
       "minimum a reproduce method and a move method\n",
       "\n",
       "Attributes:\n",
       "    name (str): name associated with blob type\n",
       "    survival_prob (float): probability of survival at each epoch\n",
       "    reproduction_prob (float): probability of reproduction at each epoch\n",
       "    mutation_prob (float): probability of mutation at each epoch\n",
       "\n",
       "    mutation_class (Callable): class to mutate to\n",
       "    repr_class (Callable) class to produce when reproducing w/o mutation\n",
       "    mutated_offspring_traits (tuple): traits used to init mutated offspring\n",
       "    color (str): color of Blob for display\n",
       "    x (float): x-coordinate of Blob\n",
       "    y (float): y-coordinate of Blob\n",
       "    size (float): effective size of blob\n",
       "    step (float): increment at which blob moves across environment\n",
       "\u001b[0;31mInit docstring:\u001b[0m\n",
       "Inits BaseBlob\n",
       "\n",
       "Args:\n",
       "    survival_prob (float): probability of survival at each epoch\n",
       "    reproduction_prob (float): probability of reproduction at each epoch\n",
       "    mutation_prob (float): probability of mutation at each epoch\n",
       "Returns:\n",
       "    (None)\n",
       "\u001b[0;31mFile:\u001b[0m           ~/virtualenvironment/pyevo/blobs.py\n",
       "\u001b[0;31mType:\u001b[0m           type\n",
       "\u001b[0;31mSubclasses:\u001b[0m     MutatedBaseBlob, SturdyBlob, BlobWithFoodSense\n"
      ]
     },
     "metadata": {},
     "output_type": "display_data"
    }
   ],
   "source": [
    "?BaseBlob"
   ]
  },
  {
   "cell_type": "markdown",
   "id": "cardiac-memorabilia",
   "metadata": {},
   "source": [
    "This tells us quite a lot. For starters, it looks like the relevant attributes are listed under the `Attributes` section. This will be different for the more complex blobs and will likely grow or change as `pyevo` evolves (get it?) but accessing the docstrings will always provide the most up to date understanding\n",
    "\n",
    "Let's focus on a couple of the important ones. We've already gone through the three attributes required to __init__ a blob, namely `survival_prob`, `reproduction_prob`, and `mutation_prob`. \n",
    "\n",
    "Some general ones that will likely be used across all blobs and environments are:\n",
    "1. `name`. This is the name of the blob class. As we saw in notebook 1 however, this can also be used to keep track of a specific blob or blobs.\n",
    "2. `color`. This is the color of the blob as displayed in the semi-interactive plots available through the `Environment` classes\n",
    "\n",
    "Some other important ones for reproduction are:\n",
    "1. `mutation_class`. This is the class object that the blob will mutate into. For now, `pyevo` supports single mutation linkages but this will change in the future.\n",
    "2. `repr_class`. This tells `pyevo` what the class will reproduce to if given the chance to reproduce. For most cases, this will just be the same as the class itself.\n",
    "3. `mutated_offspring_traits`. This is the set of three values used to init the mutated offspring\n",
    "\n",
    "This doesn't cover all that are available! As mentioned before, as `pyevo` continues to evolve, these attributes will likely continue to change. To stay up to date, read the docstrings via the `?<BlobClass>` call!"
   ]
  },
  {
   "cell_type": "markdown",
   "id": "fatal-lending",
   "metadata": {},
   "source": [
    "## Making our own classes\n",
    "\n",
    "While `pyevo` has many base classes defined, for many purposes it'll be valuable to create custom classes. Let's go through a case of this together. Say we want to setup a simulation to study how varying `survival_prob` and `reproduction_prob` affect overall population survival.\n",
    "\n",
    "First, let's define a class called `Bunny` that inherits from `BaseBlob`"
   ]
  },
  {
   "cell_type": "code",
   "execution_count": 17,
   "id": "impaired-mixer",
   "metadata": {},
   "outputs": [],
   "source": [
    "class Bunny(BaseBlob):\n",
    "    \"\"\"Nibble nibble\"\"\"\n",
    "    def __init__(self):\n",
    "        super().__init__()"
   ]
  },
  {
   "cell_type": "markdown",
   "id": "touched-detroit",
   "metadata": {},
   "source": [
    "Now that our `Bunny` class has inherited from `BaseBlob`, let's set some of its attributes"
   ]
  },
  {
   "cell_type": "code",
   "execution_count": 24,
   "id": "closed-arrow",
   "metadata": {},
   "outputs": [],
   "source": [
    "class Bunny(BaseBlob):\n",
    "    \"\"\"Nibble nibble\"\"\"\n",
    "    def __init__(self, survival_prob, reproduction_prob, mutation_prob):\n",
    "        super().__init__(survival_prob, reproduction_prob, mutation_prob)\n",
    "        self.name = 'Bunny'\n",
    "        self.color = 'pink'\n",
    "        self.repr_class = Bunny #when bunnies reproduce, they form more bunnies"
   ]
  },
  {
   "cell_type": "markdown",
   "id": "honest-quantity",
   "metadata": {},
   "source": [
    "The typical attributes of bunnies are that they have relatively short lifespans and reproduce <b>a lot</b>. Let's reflect this in the init call"
   ]
  },
  {
   "cell_type": "code",
   "execution_count": 41,
   "id": "environmental-taiwan",
   "metadata": {},
   "outputs": [
    {
     "data": {
      "text/plain": [
       "('Bunny(0.3, 0.9, 0.0)', 'Bunny')"
      ]
     },
     "execution_count": 41,
     "metadata": {},
     "output_type": "execute_result"
    }
   ],
   "source": [
    "bun = Bunny(0.3, 0.9, 0.0)\n",
    "str(bun), bun.name"
   ]
  },
  {
   "cell_type": "markdown",
   "id": "continent-intelligence",
   "metadata": {},
   "source": [
    "That's it! Now we have a real live (abstraction of) a Bunny!\n",
    "\n",
    "This is a very simplified example, but let's make a couple more classes. For this simulation, these classes will all be along the same lines of simplicity but later on we'll introduce more intricately designed classes"
   ]
  },
  {
   "cell_type": "code",
   "execution_count": 34,
   "id": "institutional-whole",
   "metadata": {},
   "outputs": [],
   "source": [
    "class Elephant(BaseBlob):\n",
    "    \"\"\"*trumpet sound*\"\"\"\n",
    "    def __init__(self, survival_prob, reproduction_prob, mutation_prob):\n",
    "        super().__init__(survival_prob, reproduction_prob, mutation_prob)\n",
    "        self.name = 'Elephant'\n",
    "        self.color = 'brown'\n",
    "        self.repr_class = Elephant\n",
    "        \n",
    "class Bacteria(BaseBlob):\n",
    "    \"\"\"*silence*\"\"\"\n",
    "    def __init__(self, survival_prob, reproduction_prob, mutation_prob):\n",
    "        super().__init__(survival_prob, reproduction_prob, mutation_prob)\n",
    "        self.name = 'Bacteria'\n",
    "        self.color = 'green' #Not a political statement, just choosing a random color\n",
    "        self.repr_class = Bacteria\n",
    "        \n",
    "class Human(BaseBlob):\n",
    "    \"\"\"'I am the most important being in the universe'\"\"\"\n",
    "    def __init__(self, survival_prob, reproduction_prob, mutation_prob):\n",
    "        super().__init__(survival_prob, reproduction_prob, mutation_prob)\n",
    "        self.name = 'Human'\n",
    "        self.color = 'blue' #Not a political statement, just choosing a random color\n",
    "        self.repr_class = Human"
   ]
  },
  {
   "cell_type": "markdown",
   "id": "stuck-stroke",
   "metadata": {},
   "source": [
    "Now that we have our classes, let's instantiate them with the main attributes and send them off to interact!"
   ]
  },
  {
   "cell_type": "code",
   "execution_count": 39,
   "id": "thrown-recycling",
   "metadata": {},
   "outputs": [
    {
     "data": {
      "image/png": "[encoded data removed]",
      "text/plain": [
       "<Figure size 864x864 with 1 Axes>"
      ]
     },
     "metadata": {},
     "output_type": "display_data"
    }
   ],
   "source": [
    "bunnies = [Bunny(0.2, 0.95, 0.0) for x in range(25)]\n",
    "elephants = [Elephant(0.95, 0.05, 0.0) for x in range(25)]\n",
    "bacteria = [Bacteria(0.1, 0.999, 0.0) for x in range(25)]\n",
    "humans = [Human(0.7, 0.4, 0.0) for x in range(25)]\n",
    "\n",
    "e = BaseEnvironment()\n",
    "e.spawn_population(bunnies + elephants + bacteria + humans)\n",
    "\n",
    "for i in range(30):\n",
    "    e.interact()\n",
    "    \n",
    "e.plot_growth()"
   ]
  },
  {
   "cell_type": "markdown",
   "id": "adaptive-ratio",
   "metadata": {},
   "source": [
    "Somewhat depressingly, in most simulations all of the blobs don't face such good prospects. It does seem that of all the reproductive strategies, that of the `Bunny` seems relatively succesful - reproducing a lot even when any individual `Bunny` may not survive too long seems to work out pretty well\n",
    "\n",
    "This wraps up our introduction to blobs! One thing not mentioned in this notebook are the methods associated with different blobs. For the ambitious learner, feel free to dive into the docstrings and see what you can find!"
   ]
  },
  {
   "cell_type": "code",
   "execution_count": null,
   "id": "established-winning",
   "metadata": {},
   "outputs": [],
   "source": []
  }
 ],
 "metadata": {
  "kernelspec": {
   "display_name": "kernel",
   "language": "python",
   "name": "kernel"
  },
  "language_info": {
   "codemirror_mode": {
    "name": "ipython",
    "version": 3
   },
   "file_extension": ".py",
   "mimetype": "text/x-python",
   "name": "python",
   "nbconvert_exporter": "python",
   "pygments_lexer": "ipython3",
   "version": "3.8.0"
  }
 },
 "nbformat": 4,
 "nbformat_minor": 5
}
