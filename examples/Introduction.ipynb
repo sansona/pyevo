{
 "cells": [
  {
   "cell_type": "markdown",
   "id": "moved-pattern",
   "metadata": {},
   "source": [
    "# Welcome!"
   ]
  },
  {
   "cell_type": "markdown",
   "id": "private-upgrade",
   "metadata": {},
   "source": [
    "This is intended as a very high-level introduction to `pyevo`. <b>`pyevo` is a python library for simulating and analyzing emergent properties and behaviors resulting from natural selection and evolutionary processes</b>. This notebook will go over how to run a basic simulation"
   ]
  },
  {
   "cell_type": "code",
   "execution_count": 1,
   "id": "virtual-assistant",
   "metadata": {},
   "outputs": [],
   "source": [
    "import sys\n",
    "sys.path.append('..')\n",
    "from environment import *\n",
    "from blobs import BaseBlob, MutatedBaseBlob, SturdyBlob\n",
    "\n",
    "%load_ext autoreload\n",
    "%autoreload 2"
   ]
  },
  {
   "cell_type": "markdown",
   "id": "damaged-hopkins",
   "metadata": {},
   "source": [
    "## Blobs\n",
    "Blobs are the basic \"living\" unit in `pyevo`. Each blob can be thought of as a single organism.\n",
    "\n",
    "For this portion, we will stick to just two types of blobs: `BaseBlob` and `MutatedBlob`\n",
    "\n",
    "Here's how we instantiate a blob. We'll name this blob `john` for now"
   ]
  },
  {
   "cell_type": "code",
   "execution_count": 2,
   "id": "fancy-divorce",
   "metadata": {},
   "outputs": [],
   "source": [
    "john = BaseBlob(1.0, 1.0, 1.0)"
   ]
  },
  {
   "cell_type": "markdown",
   "id": "perfect-train",
   "metadata": {},
   "source": [
    "Notice that `john` was called with 3 parameters. These correspond to his probabilities of survival, reproduction, and mutation respectively. A probability of `1.0` for all of these means that at each epoch, ```john``` is guaranteed to survive, reproduce, and mutate <i>if</i> the right conditions are met. All blobs must be instantiated with at least these three attributes, with more complicated blobs requiring more\n",
    "\n",
    "Let's introduce a second blob, named `gretchen`"
   ]
  },
  {
   "cell_type": "code",
   "execution_count": 3,
   "id": "spanish-strip",
   "metadata": {},
   "outputs": [
    {
     "name": "stdout",
     "output_type": "stream",
     "text": [
      "True\n"
     ]
    }
   ],
   "source": [
    "#attrs = (survival_prob, reproduction_prob, and mutation_prob)\n",
    "gretchen = BaseBlob(0.5, 0.9, 0.0)\n",
    "\n",
    "print(john.name == gretchen.name)"
   ]
  },
  {
   "cell_type": "markdown",
   "id": "ranking-webcam",
   "metadata": {},
   "source": [
    "While `gretchen` is the same type of blob as John (as seen by accessing the `name` attribute), she has different attribute values. In particular, `gretchen` has a much lower probability of survival (`0.5`), a slightly lower reproduction probability (`0.9`), and no chance of mutation.\n",
    "\n",
    "We'll see how survival and reproduction works later on in this notebook, but for now let's see what mutations do. `john` has a mutation probability of `1.0` meaning that when he reproduces, his offspring are guaranteed to exhibit a mutation. In contrast, `gretchen` has a probabili of `0.0`, which means her offspring have no chance of exhibiting a mutation\n",
    "\n",
    "To reproduce, each blob has a `reproduce` method that is called"
   ]
  },
  {
   "cell_type": "code",
   "execution_count": 4,
   "id": "universal-boring",
   "metadata": {},
   "outputs": [],
   "source": [
    "john_child = john.reproduce()\n",
    "gretchen_child = gretchen.reproduce()"
   ]
  },
  {
   "cell_type": "markdown",
   "id": "harmful-possibility",
   "metadata": {},
   "source": [
    "`john_child` & `gretchen_child` are the offspring produced by `john` and `gretchen` respectively. Let's see what type of blobs they are"
   ]
  },
  {
   "cell_type": "code",
   "execution_count": 5,
   "id": "banner-documentation",
   "metadata": {},
   "outputs": [
    {
     "name": "stdout",
     "output_type": "stream",
     "text": [
      "type(john_child): MutatedBaseBlob\n",
      "type(gretchen_child): BaseBlob\n"
     ]
    }
   ],
   "source": [
    "print(f\"type(john_child): {john_child.name}\")\n",
    "print(f\"type(gretchen_child): {gretchen_child.name}\")"
   ]
  },
  {
   "cell_type": "markdown",
   "id": "portuguese-verse",
   "metadata": {},
   "source": [
    "As we can see by the types, `john`'s child is a different type than he is! He's undergone a mutation. Each blob type in `pyevo` can mutate into one or multiple other types of blobs. This is defined in the class __init__ under `mutation_class`\n",
    "\n",
    "Mutated classes will often have different properties than their parents. These are also defined under the __init__ in `mutated_offspring_traits`. As we can see below, `john_child` is almost identical to his father `john` <i>except</i> for the decreased probability of mutation"
   ]
  },
  {
   "cell_type": "code",
   "execution_count": 6,
   "id": "disabled-karaoke",
   "metadata": {},
   "outputs": [
    {
     "name": "stdout",
     "output_type": "stream",
     "text": [
      "john_child attrs: (1.0, 1.0, 0.0)\n",
      "john attrs: (1.0, 1.0, 1.0)\n"
     ]
    }
   ],
   "source": [
    "print(f\"john_child attrs: {john_child.survival_prob, john_child.reproduction_prob, john_child.mutation_prob}\")\n",
    "print(f\"john attrs: {john.survival_prob, john.reproduction_prob, john.mutation_prob}\")"
   ]
  },
  {
   "cell_type": "markdown",
   "id": "breathing-crash",
   "metadata": {},
   "source": [
    "The types of blobs and their various attributes are limited only by your imagination. See ```blobs.py``` for more examples, or write your own!"
   ]
  },
  {
   "cell_type": "markdown",
   "id": "sixth-competition",
   "metadata": {},
   "source": [
    "## Environment"
   ]
  },
  {
   "cell_type": "markdown",
   "id": "stylish-above",
   "metadata": {},
   "source": [
    "The framework in which blobs can interact is an environment. Environments can be thought of as the \"physical\" component of `pyevo`, where blobs can move around, fight, mate, and compete. \n",
    "\n",
    "For starters, let's create a bunch of blobs and put them in a simple environment together. In this example, we'll only make two kinds of blobs that vary on their survival probability"
   ]
  },
  {
   "cell_type": "code",
   "execution_count": 19,
   "id": "wound-custody",
   "metadata": {},
   "outputs": [
    {
     "data": {
      "text/plain": [
       "[<blobs.BaseBlob at 0x7f4b32e95be0>,\n",
       " <blobs.BaseBlob at 0x7f4b32e95220>,\n",
       " <blobs.BaseBlob at 0x7f4b32e95e50>,\n",
       " <blobs.BaseBlob at 0x7f4b32e008b0>,\n",
       " <blobs.BaseBlob at 0x7f4b32e00af0>,\n",
       " <blobs.SturdyBlob at 0x7f4b32e95a60>,\n",
       " <blobs.SturdyBlob at 0x7f4b32e008e0>,\n",
       " <blobs.SturdyBlob at 0x7f4b32e00700>,\n",
       " <blobs.SturdyBlob at 0x7f4b32e00b20>,\n",
       " <blobs.SturdyBlob at 0x7f4b32e00c10>]"
      ]
     },
     "execution_count": 19,
     "metadata": {},
     "output_type": "execute_result"
    }
   ],
   "source": [
    "base_blob_attrs = (0.5, 0.5, 0.0)\n",
    "sturdy_blob_attrs = (0.9, 0.5, 0.0)\n",
    "\n",
    "base_blobs = [BaseBlob(*base_blob_attrs) for x in range(5)]\n",
    "sturdy_blobs = [SturdyBlob(*sturdy_blob_attrs) for y in range(5)]\n",
    "blob_population = base_blobs + sturdy_blobs\n",
    "blob_population"
   ]
  },
  {
   "cell_type": "markdown",
   "id": "broke-pension",
   "metadata": {},
   "source": [
    "Here we have a list of 10 blobs, 5 of each type. Now let's set them together into a simple environment"
   ]
  },
  {
   "cell_type": "code",
   "execution_count": 20,
   "id": "fixed-acoustic",
   "metadata": {},
   "outputs": [],
   "source": [
    "e = BaseEnvironment()\n",
    "e.spawn_population(blob_population) #add population to environment"
   ]
  },
  {
   "cell_type": "markdown",
   "id": "forbidden-blink",
   "metadata": {},
   "source": [
    "Cool! Now that all our blobs are contained within this environment, let's take the time to understand how `pyevo` simulations work.\n",
    "\n",
    "`pyevo` works on an epoch-based evaluation system where at each epoch, the entire population of blobs is simultaneously evaluated against some condition(s). This means that at the end of each epoch, some portion of the population will get killed off, some will reproduce, etc. This repeats for a defined number of epochs.\n",
    "\n",
    "Remember those attributes we set earlier? In this case, the only attributes our blobs have are those. Thus, the only condition we are evaluating is how that change in survival probability will affect the population. Let's let the blobs interact for 30 epochs and see what happens"
   ]
  },
  {
   "cell_type": "code",
   "execution_count": 23,
   "id": "hourly-puzzle",
   "metadata": {},
   "outputs": [],
   "source": [
    "for i in range(30):\n",
    "    e.interact()"
   ]
  },
  {
   "cell_type": "markdown",
   "id": "registered-stage",
   "metadata": {},
   "source": [
    "Great, now what? Our blobs have interacted with 30 epochs. Can you predict what happened to their populations? One possibility is that, in the absence of any predation or resource competition, both blob kinds just reproduced whenever possible. With the `SturdyBlob`s more likely to survive any given epoch, it's likely that more were able to reproduce and thus the population grew larger than that of the `BaseBlob`s as the epochs progressed.\n",
    "\n",
    "The good news is that we don't have to speculate - we can actually see how the generations progressed over time!"
   ]
  },
  {
   "cell_type": "code",
   "execution_count": 24,
   "id": "statistical-bridge",
   "metadata": {},
   "outputs": [
    {
     "data": {
      "image/png": "[encoded data removed]",
      "text/plain": [
       "<Figure size 864x864 with 1 Axes>"
      ]
     },
     "metadata": {},
     "output_type": "display_data"
    }
   ],
   "source": [
    "e.plot_growth()"
   ]
  },
  {
   "cell_type": "markdown",
   "id": "federal-carter",
   "metadata": {},
   "source": [
    "Looks like our prediction was correct! We can even plot the specifics of the simulation epoch by epoch to see what our blobs are up to"
   ]
  },
  {
   "cell_type": "code",
   "execution_count": null,
   "id": "located-singer",
   "metadata": {},
   "outputs": [],
   "source": [
    "e.show_all_generations()"
   ]
  },
  {
   "cell_type": "markdown",
   "id": "seasonal-distinction",
   "metadata": {},
   "source": [
    "This is just the tip of the iceberg for what `pyevo` is setup to do. In theory, any simulation of natural selection conditions should be definable and simulatable under this framework. The only limitations are your imagination and computational power!"
   ]
  }
 ],
 "metadata": {
  "kernelspec": {
   "display_name": "kernel",
   "language": "python",
   "name": "kernel"
  },
  "language_info": {
   "codemirror_mode": {
    "name": "ipython",
    "version": 3
   },
   "file_extension": ".py",
   "mimetype": "text/x-python",
   "name": "python",
   "nbconvert_exporter": "python",
   "pygments_lexer": "ipython3",
   "version": "3.8.0"
  }
 },
 "nbformat": 4,
 "nbformat_minor": 5
}
